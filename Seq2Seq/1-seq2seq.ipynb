{
 "cells": [
  {
   "cell_type": "markdown",
   "metadata": {},
   "source": [
    "# simple sequence-to-sequence model with dynamic unrolling\n",
    "https://github.com/ematvey/tensorflow-seq2seq-tutorials\n",
    "![](../data/1-seq2seq.png)\n",
    "Rectangles are encoder and decoder's recurrent layers. Encoder receives [A, B, C] sequence as inputs. We don't care about encoder outputs, only about the hidden state it accumulates while reading the sequence. After input sequence ends, encoder passes its final state to decoder, which receives [<EOS>, W, X, Y, Z] and is trained to output [W, X, Y, Z, <EOS>]. <EOS> token is a special word in vocabulary that signals to decoder the beginning of translation."
   ]
  },
  {
   "cell_type": "code",
   "execution_count": 1,
   "metadata": {
    "collapsed": true
   },
   "outputs": [],
   "source": [
    "import helpers\n",
    "import numpy as np\n",
    "import tensorflow as tf\n",
    "import matplotlib.pyplot as plt\n",
    "%matplotlib inline"
   ]
  },
  {
   "cell_type": "code",
   "execution_count": 2,
   "metadata": {
    "collapsed": false
   },
   "outputs": [
    {
     "name": "stdout",
     "output_type": "stream",
     "text": [
      "[[8, 6], [1, 6, 3], [8, 7]]\n"
     ]
    }
   ],
   "source": [
    "x = next(helpers.random_sequences(1,3,1,9,3))\n",
    "print(x)"
   ]
  },
  {
   "cell_type": "code",
   "execution_count": 3,
   "metadata": {
    "collapsed": false
   },
   "outputs": [
    {
     "name": "stdout",
     "output_type": "stream",
     "text": [
      "[[8 1 8]\n",
      " [6 6 7]\n",
      " [0 3 0]]\n",
      "[2, 3, 2]\n"
     ]
    }
   ],
   "source": [
    "xt, xlen = helpers.batch(x)\n",
    "print(xt)\n",
    "print(xlen)"
   ]
  },
  {
   "cell_type": "code",
   "execution_count": 4,
   "metadata": {
    "collapsed": false
   },
   "outputs": [
    {
     "data": {
      "text/plain": [
       "'1.3.0'"
      ]
     },
     "execution_count": 4,
     "metadata": {},
     "output_type": "execute_result"
    }
   ],
   "source": [
    "tf.reset_default_graph()\n",
    "sess= tf.InteractiveSession()\n",
    "tf.__version__"
   ]
  },
  {
   "cell_type": "code",
   "execution_count": 5,
   "metadata": {
    "collapsed": true
   },
   "outputs": [],
   "source": [
    "PAD = 0\n",
    "EOS =1\n",
    "\n",
    "vocab_size = 10\n",
    "input_embedding_size = 20\n",
    "encoder_hidden_units = 20\n",
    "decoder_hidden_units = encoder_hidden_units"
   ]
  },
  {
   "cell_type": "markdown",
   "metadata": {},
   "source": [
    "* encoder_inputs int32 tensor is shaped [encoder_max_time, batch_size]\n",
    "* decoder_targets int32 tensor is shaped [decoder_max_time, batch_size]\n",
    "* decoder_inputs int32 tensor is shaped [decoder_max_time, batch_size]"
   ]
  },
  {
   "cell_type": "code",
   "execution_count": 6,
   "metadata": {
    "collapsed": true
   },
   "outputs": [],
   "source": [
    "encoder_inputs = tf.placeholder(shape=[None, None], dtype=tf.int32, name=\"encoder_inputs\")\n",
    "decoder_inputs = tf.placeholder(shape=[None, None], dtype=tf.int32, name=\"decoder_inputs\")\n",
    "decoder_targets = tf.placeholder(shape=[None, None], dtype=tf.int32, name=\"decoder_targets\")"
   ]
  },
  {
   "cell_type": "code",
   "execution_count": 7,
   "metadata": {
    "collapsed": true
   },
   "outputs": [],
   "source": [
    "embeddings = tf.Variable(tf.random_uniform([vocab_size, input_embedding_size], -1.0, 1.0), dtype=tf.float32)\n",
    "encoder_inputs_embedded = tf.nn.embedding_lookup(embeddings, encoder_inputs)\n",
    "decoder_inputs_embedded = tf.nn.embedding_lookup(embeddings, decoder_inputs)"
   ]
  },
  {
   "cell_type": "code",
   "execution_count": 8,
   "metadata": {
    "collapsed": true
   },
   "outputs": [],
   "source": [
    "encoder_cell = tf.contrib.rnn.LSTMCell(encoder_hidden_units)\n",
    "encoder_outputs, encoder_final_state = tf.nn.dynamic_rnn(encoder_cell, encoder_inputs_embedded, \n",
    "                                                         dtype=tf.float32, time_major=True)"
   ]
  },
  {
   "cell_type": "code",
   "execution_count": 9,
   "metadata": {
    "collapsed": false
   },
   "outputs": [
    {
     "data": {
      "text/plain": [
       "<tf.Tensor 'rnn/TensorArrayStack/TensorArrayGatherV3:0' shape=(?, ?, 20) dtype=float32>"
      ]
     },
     "execution_count": 9,
     "metadata": {},
     "output_type": "execute_result"
    }
   ],
   "source": [
    "encoder_outputs"
   ]
  },
  {
   "cell_type": "code",
   "execution_count": 10,
   "metadata": {
    "collapsed": false
   },
   "outputs": [
    {
     "data": {
      "text/plain": [
       "LSTMStateTuple(c=<tf.Tensor 'rnn/while/Exit_2:0' shape=(?, 20) dtype=float32>, h=<tf.Tensor 'rnn/while/Exit_3:0' shape=(?, 20) dtype=float32>)"
      ]
     },
     "execution_count": 10,
     "metadata": {},
     "output_type": "execute_result"
    }
   ],
   "source": [
    "encoder_final_state"
   ]
  },
  {
   "cell_type": "code",
   "execution_count": 11,
   "metadata": {
    "collapsed": false
   },
   "outputs": [],
   "source": [
    "decoder_cell = tf.contrib.rnn.LSTMCell(decoder_hidden_units)\n",
    "decoder_outputs, decoder_final_state = tf.nn.dynamic_rnn(decoder_cell, decoder_inputs_embedded,initial_state=encoder_final_state,\n",
    "                                                        dtype=tf.float32, time_major=True, scope=\"decoder_rnn\")"
   ]
  },
  {
   "cell_type": "code",
   "execution_count": 12,
   "metadata": {
    "collapsed": true
   },
   "outputs": [],
   "source": [
    "decoder_logits = tf.contrib.layers.linear(decoder_outputs, vocab_size)\n",
    "decoder_prediction = tf.argmax(decoder_logits,2)"
   ]
  },
  {
   "cell_type": "code",
   "execution_count": 13,
   "metadata": {
    "collapsed": false
   },
   "outputs": [
    {
     "data": {
      "text/plain": [
       "<tf.Tensor 'fully_connected/BiasAdd:0' shape=(?, ?, 10) dtype=float32>"
      ]
     },
     "execution_count": 13,
     "metadata": {},
     "output_type": "execute_result"
    }
   ],
   "source": [
    "decoder_logits"
   ]
  },
  {
   "cell_type": "code",
   "execution_count": 14,
   "metadata": {
    "collapsed": true
   },
   "outputs": [],
   "source": [
    "stepwise_cross_entropy = tf.nn.softmax_cross_entropy_with_logits(logits=decoder_logits, \n",
    "                                                                 labels=tf.one_hot(decoder_targets,vocab_size))\n",
    "loss = tf.reduce_mean(stepwise_cross_entropy)\n",
    "train_op = tf.train.AdamOptimizer().minimize(loss)"
   ]
  },
  {
   "cell_type": "code",
   "execution_count": 15,
   "metadata": {
    "collapsed": true
   },
   "outputs": [],
   "source": [
    "sess.run(tf.global_variables_initializer())"
   ]
  },
  {
   "cell_type": "code",
   "execution_count": 16,
   "metadata": {
    "collapsed": false
   },
   "outputs": [
    {
     "name": "stdout",
     "output_type": "stream",
     "text": [
      "batch_encoded:\n",
      "[[6 3 9]\n",
      " [0 4 8]\n",
      " [0 0 7]]\n",
      "decoder inputs:\n",
      "[[1 1 1]\n",
      " [0 0 0]\n",
      " [0 0 0]\n",
      " [0 0 0]]\n",
      "decoder predictions:\n",
      "[[8 8 6]\n",
      " [1 2 2]\n",
      " [5 2 2]\n",
      " [5 2 2]]\n"
     ]
    }
   ],
   "source": [
    "batch_ = [[6], [3, 4], [9, 8, 7]]\n",
    "batch_, batch_length_ = helpers.batch(batch_)\n",
    "print('batch_encoded:\\n' + str(batch_))\n",
    "\n",
    "din_, dlen_ = helpers.batch(np.ones(shape=(3, 1), dtype=np.int32),\n",
    "                            max_sequence_length=4)\n",
    "print('decoder inputs:\\n' + str(din_))\n",
    "\n",
    "pred_ = sess.run(decoder_prediction,\n",
    "                 feed_dict={encoder_inputs: batch_,decoder_inputs: din_,})\n",
    "print('decoder predictions:\\n' + str(pred_))"
   ]
  },
  {
   "cell_type": "code",
   "execution_count": 19,
   "metadata": {
    "collapsed": false
   },
   "outputs": [
    {
     "name": "stdout",
     "output_type": "stream",
     "text": [
      "head of the batch:\n",
      "[9, 7, 5, 8, 3, 7]\n",
      "[9, 6, 5]\n",
      "[7, 2, 8, 3, 5, 4, 5, 5]\n",
      "[6, 7, 6]\n",
      "[8, 5, 3, 2, 7]\n",
      "[2, 6, 8, 6, 4]\n",
      "[6, 8, 2, 4, 5, 9, 2]\n",
      "[6, 5, 3, 4, 5, 6]\n",
      "[8, 3, 6, 3, 2, 4]\n",
      "[9, 3, 8, 5, 2]\n"
     ]
    }
   ],
   "source": [
    "batch_size = 100\n",
    "\n",
    "batches = helpers.random_sequences(length_from=3, length_to=8,\n",
    "                                   vocab_lower=2, vocab_upper=10,\n",
    "                                   batch_size=batch_size)\n",
    "\n",
    "print('head of the batch:')\n",
    "for seq in next(batches)[:10]:\n",
    "    print(seq)"
   ]
  },
  {
   "cell_type": "code",
   "execution_count": 23,
   "metadata": {
    "collapsed": false
   },
   "outputs": [],
   "source": [
    "def next_feed():\n",
    "    batch = next(batches)\n",
    "    encoder_inputs_, _ = helpers.batch(batch)\n",
    "    decoder_targets_, _ = helpers.batch([(sequence)+[EOS] for sequence in batch])\n",
    "    decoder_inputs_, _ = helpers.batch([[EOS]+(sequence) for sequence in batch])\n",
    "    return{\n",
    "        encoder_inputs:encoder_inputs_,\n",
    "        decoder_targets:decoder_targets_,\n",
    "        decoder_inputs:decoder_inputs_\n",
    "    }"
   ]
  },
  {
   "cell_type": "code",
   "execution_count": 25,
   "metadata": {
    "collapsed": false
   },
   "outputs": [
    {
     "name": "stdout",
     "output_type": "stream",
     "text": [
      "batch 0\n",
      "  minibatch loss: 2.2783029079437256\n",
      "  sample 1:\n",
      "    input     > [2 6 9 9 3 0 0 0]\n",
      "    predicted > [8 1 1 7 7 2 2 3 5]\n",
      "  sample 2:\n",
      "    input     > [8 7 4 8 2 2 0 0]\n",
      "    predicted > [8 8 8 8 8 5 1 0 1]\n",
      "  sample 3:\n",
      "    input     > [2 5 6 6 4 9 8 2]\n",
      "    predicted > [7 3 6 8 8 8 7 7 5]\n",
      "\n",
      "batch 1000\n",
      "  minibatch loss: 0.3065749406814575\n",
      "  sample 1:\n",
      "    input     > [5 4 9 7 5 0 0 0]\n",
      "    predicted > [5 4 9 7 5 1 0 0 0]\n",
      "  sample 2:\n",
      "    input     > [6 7 6 0 0 0 0 0]\n",
      "    predicted > [6 7 6 1 0 0 0 0 0]\n",
      "  sample 3:\n",
      "    input     > [5 7 3 0 0 0 0 0]\n",
      "    predicted > [5 7 3 1 0 0 0 0 0]\n",
      "\n",
      "batch 2000\n",
      "  minibatch loss: 0.13055957853794098\n",
      "  sample 1:\n",
      "    input     > [7 7 7 0 0 0 0 0]\n",
      "    predicted > [7 7 7 1 0 0 0 0 0]\n",
      "  sample 2:\n",
      "    input     > [3 9 4 2 0 0 0 0]\n",
      "    predicted > [3 9 4 2 1 0 0 0 0]\n",
      "  sample 3:\n",
      "    input     > [4 4 3 4 8 8 2 6]\n",
      "    predicted > [4 4 3 8 8 8 2 6 1]\n",
      "\n",
      "batch 3000\n",
      "  minibatch loss: 0.09812162816524506\n",
      "  sample 1:\n",
      "    input     > [3 4 4 2 3 2 5 7]\n",
      "    predicted > [3 4 4 2 3 2 5 7 1]\n",
      "  sample 2:\n",
      "    input     > [6 9 7 2 2 0 0 0]\n",
      "    predicted > [6 9 7 2 2 1 0 0 0]\n",
      "  sample 3:\n",
      "    input     > [2 3 6 0 0 0 0 0]\n",
      "    predicted > [2 3 6 1 0 0 0 0 0]\n",
      "\n"
     ]
    }
   ],
   "source": [
    "loss_track=[]\n",
    "max_batches = 3001\n",
    "batches_in_epoch=1000\n",
    "try:\n",
    "    for batch in range(max_batches):\n",
    "        fd = next_feed()\n",
    "        _,l = sess.run([train_op,loss], feed_dict=fd)\n",
    "        loss_track.append(l)\n",
    "        \n",
    "        if batch == 0 or batch % batches_in_epoch == 0:\n",
    "            print('batch {}'.format(batch))\n",
    "            print('  minibatch loss: {}'.format(l))\n",
    "            predict_ = sess.run(decoder_prediction, feed_dict=fd)\n",
    "            for i, (inp, pred) in enumerate(zip(fd[encoder_inputs].T, predict_.T)):\n",
    "                print('  sample {}:'.format(i + 1))\n",
    "                print('    input     > {}'.format(inp))\n",
    "                print('    predicted > {}'.format(pred))\n",
    "                if i >= 2:\n",
    "                    break\n",
    "            print()\n",
    "            \n",
    "except KeyboardInterrupt:\n",
    "    print(\"Training interrupted!\")"
   ]
  },
  {
   "cell_type": "code",
   "execution_count": 26,
   "metadata": {
    "collapsed": false
   },
   "outputs": [
    {
     "name": "stdout",
     "output_type": "stream",
     "text": [
      "loss 0.0981 after 300100 examples (batch_size=100)\n"
     ]
    },
    {
     "data": {
      "image/png": "[encoded data removed]",
      "text/plain": [
       "<matplotlib.figure.Figure at 0x1572f5e9ac8>"
      ]
     },
     "metadata": {},
     "output_type": "display_data"
    }
   ],
   "source": [
    "plt.plot(loss_track)\n",
    "print('loss {:.4f} after {} examples (batch_size={})'.format(loss_track[-1], len(loss_track)*batch_size, batch_size))"
   ]
  },
  {
   "cell_type": "code",
   "execution_count": null,
   "metadata": {
    "collapsed": true
   },
   "outputs": [],
   "source": []
  }
 ],
 "metadata": {
  "anaconda-cloud": {},
  "kernelspec": {
   "display_name": "Python [conda root]",
   "language": "python",
   "name": "conda-root-py"
  },
  "language_info": {
   "codemirror_mode": {
    "name": "ipython",
    "version": 3
   },
   "file_extension": ".py",
   "mimetype": "text/x-python",
   "name": "python",
   "nbconvert_exporter": "python",
   "pygments_lexer": "ipython3",
   "version": "3.5.2"
  }
 },
 "nbformat": 4,
 "nbformat_minor": 1
}
