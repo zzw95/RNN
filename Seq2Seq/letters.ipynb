{
 "cells": [
  {
   "cell_type": "markdown",
   "metadata": {},
   "source": [
    "# Character Sequence to Sequence "
   ]
  },
  {
   "cell_type": "code",
   "execution_count": 1,
   "metadata": {
    "collapsed": true
   },
   "outputs": [],
   "source": [
    "import helpers\n",
    "import numpy as np\n",
    "import tensorflow as tf\n",
    "import matplotlib.pyplot as plt\n",
    "%matplotlib inline"
   ]
  },
  {
   "cell_type": "code",
   "execution_count": 2,
   "metadata": {
    "collapsed": false
   },
   "outputs": [],
   "source": [
    "source_path = '../data/letters_source.txt'\n",
    "target_path = '../data/letters_target.txt'\n",
    "\n",
    "source_sentences = helpers.load_data(source_path)\n",
    "target_sentences = helpers.load_data(target_path)"
   ]
  },
  {
   "cell_type": "code",
   "execution_count": 3,
   "metadata": {
    "collapsed": false
   },
   "outputs": [
    {
     "data": {
      "text/plain": [
       "['bsaqq',\n",
       " 'npy',\n",
       " 'lbwuj',\n",
       " 'bqv',\n",
       " 'kial',\n",
       " 'tddam',\n",
       " 'edxpjpg',\n",
       " 'nspv',\n",
       " 'huloz',\n",
       " '']"
      ]
     },
     "execution_count": 3,
     "metadata": {},
     "output_type": "execute_result"
    }
   ],
   "source": [
    "source_sentences[:50].split('\\n')"
   ]
  },
  {
   "cell_type": "code",
   "execution_count": 4,
   "metadata": {
    "collapsed": false
   },
   "outputs": [
    {
     "data": {
      "text/plain": [
       "['abqqs',\n",
       " 'npy',\n",
       " 'bjluw',\n",
       " 'bqv',\n",
       " 'aikl',\n",
       " 'addmt',\n",
       " 'degjppx',\n",
       " 'npsv',\n",
       " 'hlouz',\n",
       " '']"
      ]
     },
     "execution_count": 4,
     "metadata": {},
     "output_type": "execute_result"
    }
   ],
   "source": [
    "target_sentences[:50].split('\\n')"
   ]
  },
  {
   "cell_type": "code",
   "execution_count": 5,
   "metadata": {
    "collapsed": false
   },
   "outputs": [
    {
     "name": "stdout",
     "output_type": "stream",
     "text": [
      "Example source sequence\n",
      "[[28, 25, 7, 13, 13], [27, 12, 17], [19, 28, 9, 26, 10]]\n",
      "\n",
      "\n",
      "Example target sequence\n",
      "[[7, 28, 13, 13, 25, 3], [27, 12, 17, 3], [28, 10, 19, 26, 9, 3]]\n"
     ]
    }
   ],
   "source": [
    "def extract_character_vocab(data):\n",
    "    special_characters = ['<PAD>', '<UNK>', '<GO>',  '<EOS>']\n",
    "    # <PAD>:补全字符\n",
    "    # <EOS>:解码器端的句子结束标识符\n",
    "    # <UNK>:低频词或者一些未遇到的词等\n",
    "    # <GO>:解码器端的句子起始标识符\n",
    "    \n",
    "    set_characters = set([character for line in data.split('\\n') for character in line])\n",
    "    int_to_vocab = {i:character for i,character in enumerate(special_characters+list(set_characters))}\n",
    "    vocab_to_int = {character:i for i,character in int_to_vocab.items()}\n",
    "    return int_to_vocab, vocab_to_int\n",
    "\n",
    "source_int_to_letter, source_letter_to_int = extract_character_vocab(source_sentences)\n",
    "target_int_to_letter, target_letter_to_int = extract_character_vocab(target_sentences)\n",
    "\n",
    "source_letter_ids = [[source_letter_to_int.get(letter, source_letter_to_int['<UNK>']) for letter in line]\n",
    "                     for line in source_sentences.split('\\n')]\n",
    "target_letter_ids = [[target_letter_to_int.get(letter, target_letter_to_int['<UNK>']) for letter in line]+ [target_letter_to_int['<EOS>']]\n",
    "                     for line in target_sentences.split('\\n')]\n",
    "\n",
    "print(\"Example source sequence\")\n",
    "print(source_letter_ids[:3])\n",
    "print(\"\\n\")\n",
    "print(\"Example target sequence\")\n",
    "print(target_letter_ids[:3])"
   ]
  },
  {
   "cell_type": "code",
   "execution_count": 6,
   "metadata": {
    "collapsed": false
   },
   "outputs": [],
   "source": [
    "import pickle\n",
    "with open(\"letter_dicts.pkl\",'wb') as f:\n",
    "    pickle.dump([source_int_to_letter, source_letter_to_int,target_int_to_letter, target_letter_to_int],f)"
   ]
  },
  {
   "cell_type": "code",
   "execution_count": 7,
   "metadata": {
    "collapsed": true
   },
   "outputs": [],
   "source": [
    "# Hyperparameters\n",
    "\n",
    "# Number of Epochs\n",
    "epochs = 60\n",
    "# Batch Size\n",
    "batch_size = 128\n",
    "# RNN Size\n",
    "rnn_size = 50\n",
    "# Number of Layers\n",
    "num_layers = 2\n",
    "# Embedding Size\n",
    "encoder_embedding_size = 15\n",
    "decoder_embedding_size = 15\n",
    "# Learning Rate\n",
    "learning_rate = 0.001"
   ]
  },
  {
   "cell_type": "code",
   "execution_count": 8,
   "metadata": {
    "collapsed": false
   },
   "outputs": [],
   "source": [
    "# Input\n",
    "tf.reset_default_graph()\n",
    "inputs_ = tf.placeholder(shape=[None, None],dtype=tf.int32, name=\"inputs\")\n",
    "targets_ = tf.placeholder(shape=[None, None], dtype=tf.int32, name=\"targets\")\n",
    "lr = tf.placeholder(dtype=tf.float32, name=\"learning_rate\")\n",
    "target_sequence_lengths = tf.placeholder(shape=[None],dtype=tf.int32, name=\"target_sequence_lengths\")\n",
    "max_target_sequence_length = tf.reduce_max(target_sequence_lengths, name='max_target_sequence_length')\n",
    "source_sequence_lengths = tf.placeholder(shape=[None],dtype=tf.int32, name=\"source_sequence_lengths\")"
   ]
  },
  {
   "cell_type": "code",
   "execution_count": 9,
   "metadata": {
    "collapsed": true
   },
   "outputs": [],
   "source": [
    "# Encoder\n",
    "def encoder_layer(inputs, rnn_size, num_layers, source_sequence_length, \n",
    "            source_vocab_size,encoder_embedding_size):\n",
    "    encoder_input_embed = tf.contrib.layers.embed_sequence(inputs, source_vocab_size, encoder_embedding_size)\n",
    "    def make_cell(rnn_size):\n",
    "        lstm = tf.contrib.rnn.LSTMCell(rnn_size)\n",
    "        return lstm\n",
    "    encoder_cell = tf.contrib.rnn.MultiRNNCell([make_cell(rnn_size) for _ in range(num_layers)])\n",
    "    encoder_outputs, encoder_final_state = tf.nn.dynamic_rnn(\n",
    "        encoder_cell, encoder_input_embed, sequence_length=source_sequence_length, dtype=tf.float32, scope=\"encoder_rnn\")\n",
    "    return encoder_outputs, encoder_final_state"
   ]
  },
  {
   "cell_type": "code",
   "execution_count": 10,
   "metadata": {
    "collapsed": true
   },
   "outputs": [],
   "source": [
    "def process_decoder_input(target_data, vocab_to_int, batch_size):\n",
    "    '''Remove the last word id from each batch and concat the <GO> to the begining of each batch'''\n",
    "    slices = tf.strided_slice(target_data, [0,0],[batch_size,-1],[1,1])\n",
    "    decoder_inputs = tf.concat([tf.fill([batch_size,1], vocab_to_int['<GO>']), slices],1)\n",
    "    return decoder_inputs"
   ]
  },
  {
   "cell_type": "code",
   "execution_count": 11,
   "metadata": {
    "collapsed": true
   },
   "outputs": [],
   "source": [
    "# Decoder\n",
    "def decoder_layer(decoder_inputs, targets, encoder_state, rnn_size, num_layers, \n",
    "            target_sequence_length, max_target_sequence_length, \n",
    "            target_letter_to_int, decoder_embedding_size):\n",
    "    # Decoder Embdding\n",
    "    target_vocab_size= len(target_letter_to_int)\n",
    "    decoder_embedding = tf.Variable(tf.random_uniform([target_vocab_size, decoder_embedding_size], -1.0, 1.0))\n",
    "    decoder_input_embed = tf.nn.embedding_lookup(decoder_embedding, decoder_inputs)\n",
    "    \n",
    "    # Decoder cell\n",
    "    def make_cell(rnn_size):\n",
    "        lstm = tf.contrib.rnn.LSTMCell(rnn_size)\n",
    "        return lstm\n",
    "    decoder_cell = tf.contrib.rnn.MultiRNNCell([make_cell(rnn_size) for _ in range(num_layers)])\n",
    "    \n",
    "    # Ouput \n",
    "    ouput_layer = tf.contrib.keras.layers.Dense(\n",
    "        target_vocab_size, kernel_initializer=tf.truncated_normal_initializer(mean = 0.0, stddev=0.1))\n",
    "    \n",
    "    # Training Decoder\n",
    "    with tf.variable_scope(\"decoder\"):\n",
    "        # Using TrainingHelper to read inputs\n",
    "        train_helper = tf.contrib.seq2seq.TrainingHelper(\n",
    "            decoder_input_embed, target_sequence_lengths)\n",
    "        \n",
    "        train_decoder = tf.contrib.seq2seq.BasicDecoder(\n",
    "            decoder_cell, train_helper, encoder_state, ouput_layer)\n",
    "        \n",
    "        train_decoder_outputs, _, _ = tf.contrib.seq2seq.dynamic_decode(\n",
    "            train_decoder, maximum_iterations=max_target_sequence_length, impute_finished=True)\n",
    "    \n",
    "    # Inference\n",
    "    with tf.variable_scope(\"decoder\", reuse=True):\n",
    "        start_tokens = tf.fill([batch_size],target_letter_to_int['<GO>'])\n",
    "        infer_helper = tf.contrib.seq2seq.GreedyEmbeddingHelper(\n",
    "            embedding=decoder_embedding, start_tokens=start_tokens, end_token=target_letter_to_int['<EOS>'])\n",
    "        \n",
    "        infer_decoder = tf.contrib.seq2seq.BasicDecoder(\n",
    "            decoder_cell, infer_helper, encoder_state, ouput_layer)\n",
    "        \n",
    "        infer_decoder_outputs, _, _ = tf.contrib.seq2seq.dynamic_decode(\n",
    "            infer_decoder, maximum_iterations=max_target_sequence_length, impute_finished=True)\n",
    "    \n",
    "    return train_decoder_outputs, infer_decoder_outputs"
   ]
  },
  {
   "cell_type": "code",
   "execution_count": 12,
   "metadata": {
    "collapsed": false
   },
   "outputs": [],
   "source": [
    "_, encoder_final_state = encoder_layer(inputs_, rnn_size, num_layers, source_sequence_lengths, \n",
    "                                       len(source_letter_to_int),encoder_embedding_size)\n",
    "\n",
    "decoder_inputs = process_decoder_input(targets_, target_letter_to_int, batch_size)\n",
    "\n",
    "train_decoder_outputs, infer_decoder_outputs = decoder_layer(decoder_inputs, targets_, encoder_final_state, rnn_size, num_layers,\n",
    "                                                             target_sequence_lengths, max_target_sequence_length, target_letter_to_int, decoder_embedding_size)\n",
    "\n",
    "train_logits = tf.identity(train_decoder_outputs.rnn_output, 'logits')\n",
    "infere_logits = tf.identity(infer_decoder_outputs.sample_id, name='predictions')\n",
    "\n",
    "masks = tf.sequence_mask(target_sequence_lengths, max_target_sequence_length, dtype=tf.float32, name='masks')\n",
    "\n",
    "with tf.name_scope(\"optimization\"):\n",
    "    cost = tf.contrib.seq2seq.sequence_loss(logits=train_logits, targets = targets_, weights = masks)\n",
    "    optimizer = tf.train.AdamOptimizer(lr)\n",
    "    gradients = optimizer.compute_gradients(cost)\n",
    "    capped_gradients = [(tf.clip_by_value(grad, -5., 5.), var) for grad, var in gradients if grad is not None]\n",
    "    train_op = optimizer.apply_gradients(capped_gradients)"
   ]
  },
  {
   "cell_type": "code",
   "execution_count": 13,
   "metadata": {
    "collapsed": false
   },
   "outputs": [
    {
     "data": {
      "text/plain": [
       "<tf.Tensor 'masks/Cast_1:0' shape=(?, ?) dtype=float32>"
      ]
     },
     "execution_count": 13,
     "metadata": {},
     "output_type": "execute_result"
    }
   ],
   "source": [
    "masks"
   ]
  },
  {
   "cell_type": "markdown",
   "metadata": {},
   "source": [
    "<img src=\"../data/source_batch.png\" />\n",
    "\n",
    "<img src=\"../data/target_batch.png\" />"
   ]
  },
  {
   "cell_type": "code",
   "execution_count": 14,
   "metadata": {
    "collapsed": false
   },
   "outputs": [],
   "source": [
    "def pad_sentence_batch(sentence_batch, pad_int):\n",
    "    \"\"\"Pad sentences with <PAD> so that each sentence of a batch has the same length\"\"\"\n",
    "    max_sentence_length = max([len(sentence) for sentence in sentence_batch])\n",
    "    return [sentence + [pad_int]*(max_sentence_length-len(sentence)) for sentence in sentence_batch]"
   ]
  },
  {
   "cell_type": "code",
   "execution_count": 15,
   "metadata": {
    "collapsed": true
   },
   "outputs": [],
   "source": [
    "def get_batches(targets, sources, batch_size, source_pad_int, target_pad_int):\n",
    "    for batch_i in range(0, len(sources)//batch_size):\n",
    "        sources_batch = sources[batch_i * batch_size:(batch_i+1) * batch_size]\n",
    "        targets_batch = targets[batch_i * batch_size:(batch_i+1) * batch_size]\n",
    "        pad_sources_batch = np.array(pad_sentence_batch(sources_batch, source_pad_int))\n",
    "        pad_targets_batch = np.array(pad_sentence_batch(targets_batch, target_pad_int))\n",
    "        \n",
    "        pad_targets_lengths = []\n",
    "        for target in pad_targets_batch:\n",
    "            pad_targets_lengths.append(len(target))\n",
    "        \n",
    "        pad_source_lengths = []\n",
    "        for source in pad_sources_batch:\n",
    "            pad_source_lengths.append(len(source))\n",
    "        \n",
    "        yield pad_targets_batch, pad_sources_batch, pad_targets_lengths, pad_source_lengths      "
   ]
  },
  {
   "cell_type": "code",
   "execution_count": 16,
   "metadata": {
    "collapsed": false
   },
   "outputs": [
    {
     "name": "stdout",
     "output_type": "stream",
     "text": [
      "Epoch   1/60 Batch   20/77 - Loss:  2.401  - Validation loss:  2.428\n",
      "Epoch   1/60 Batch   40/77 - Loss:  2.192  - Validation loss:  2.145\n",
      "Epoch   1/60 Batch   60/77 - Loss:  1.942  - Validation loss:  1.989\n",
      "Epoch   2/60 Batch   20/77 - Loss:  1.687  - Validation loss:  1.765\n",
      "Epoch   2/60 Batch   40/77 - Loss:  1.692  - Validation loss:  1.652\n",
      "Epoch   2/60 Batch   60/77 - Loss:  1.528  - Validation loss:  1.554\n",
      "Epoch   3/60 Batch   20/77 - Loss:  1.384  - Validation loss:  1.455\n",
      "Epoch   3/60 Batch   40/77 - Loss:  1.460  - Validation loss:  1.429\n",
      "Epoch   3/60 Batch   60/77 - Loss:  1.374  - Validation loss:  1.398\n",
      "Epoch   4/60 Batch   20/77 - Loss:  1.273  - Validation loss:  1.342\n",
      "Epoch   4/60 Batch   40/77 - Loss:  1.331  - Validation loss:  1.287\n",
      "Epoch   4/60 Batch   60/77 - Loss:  1.202  - Validation loss:  1.240\n",
      "Epoch   5/60 Batch   20/77 - Loss:  1.093  - Validation loss:  1.164\n",
      "Epoch   5/60 Batch   40/77 - Loss:  1.148  - Validation loss:  1.128\n",
      "Epoch   5/60 Batch   60/77 - Loss:  1.024  - Validation loss:  1.091\n",
      "Epoch   6/60 Batch   20/77 - Loss:  0.958  - Validation loss:  1.037\n",
      "Epoch   6/60 Batch   40/77 - Loss:  1.017  - Validation loss:  1.007\n",
      "Epoch   6/60 Batch   60/77 - Loss:  0.912  - Validation loss:  0.980\n",
      "Epoch   7/60 Batch   20/77 - Loss:  0.840  - Validation loss:  0.931\n",
      "Epoch   7/60 Batch   40/77 - Loss:  0.889  - Validation loss:  0.896\n",
      "Epoch   7/60 Batch   60/77 - Loss:  0.798  - Validation loss:  0.862\n",
      "Epoch   8/60 Batch   20/77 - Loss:  0.711  - Validation loss:  0.804\n",
      "Epoch   8/60 Batch   40/77 - Loss:  0.762  - Validation loss:  0.774\n",
      "Epoch   8/60 Batch   60/77 - Loss:  0.687  - Validation loss:  0.747\n",
      "Epoch   9/60 Batch   20/77 - Loss:  0.596  - Validation loss:  0.697\n",
      "Epoch   9/60 Batch   40/77 - Loss:  0.663  - Validation loss:  0.670\n",
      "Epoch   9/60 Batch   60/77 - Loss:  0.592  - Validation loss:  0.639\n",
      "Epoch  10/60 Batch   20/77 - Loss:  0.497  - Validation loss:  0.591\n",
      "Epoch  10/60 Batch   40/77 - Loss:  0.567  - Validation loss:  0.569\n",
      "Epoch  10/60 Batch   60/77 - Loss:  0.505  - Validation loss:  0.544\n",
      "Epoch  11/60 Batch   20/77 - Loss:  0.418  - Validation loss:  0.509\n",
      "Epoch  11/60 Batch   40/77 - Loss:  0.505  - Validation loss:  0.493\n",
      "Epoch  11/60 Batch   60/77 - Loss:  0.436  - Validation loss:  0.472\n",
      "Epoch  12/60 Batch   20/77 - Loss:  0.353  - Validation loss:  0.444\n",
      "Epoch  12/60 Batch   40/77 - Loss:  0.424  - Validation loss:  0.431\n",
      "Epoch  12/60 Batch   60/77 - Loss:  0.378  - Validation loss:  0.411\n",
      "Epoch  13/60 Batch   20/77 - Loss:  0.300  - Validation loss:  0.390\n",
      "Epoch  13/60 Batch   40/77 - Loss:  0.365  - Validation loss:  0.378\n",
      "Epoch  13/60 Batch   60/77 - Loss:  0.334  - Validation loss:  0.363\n",
      "Epoch  14/60 Batch   20/77 - Loss:  0.258  - Validation loss:  0.340\n",
      "Epoch  14/60 Batch   40/77 - Loss:  0.325  - Validation loss:  0.333\n",
      "Epoch  14/60 Batch   60/77 - Loss:  0.290  - Validation loss:  0.315\n",
      "Epoch  15/60 Batch   20/77 - Loss:  0.224  - Validation loss:  0.298\n",
      "Epoch  15/60 Batch   40/77 - Loss:  0.275  - Validation loss:  0.288\n",
      "Epoch  15/60 Batch   60/77 - Loss:  0.251  - Validation loss:  0.278\n",
      "Epoch  16/60 Batch   20/77 - Loss:  0.197  - Validation loss:  0.267\n",
      "Epoch  16/60 Batch   40/77 - Loss:  0.240  - Validation loss:  0.296\n",
      "Epoch  16/60 Batch   60/77 - Loss:  0.408  - Validation loss:  0.336\n",
      "Epoch  17/60 Batch   20/77 - Loss:  0.181  - Validation loss:  0.246\n",
      "Epoch  17/60 Batch   40/77 - Loss:  0.218  - Validation loss:  0.232\n",
      "Epoch  17/60 Batch   60/77 - Loss:  0.203  - Validation loss:  0.225\n",
      "Epoch  18/60 Batch   20/77 - Loss:  0.154  - Validation loss:  0.211\n",
      "Epoch  18/60 Batch   40/77 - Loss:  0.192  - Validation loss:  0.205\n",
      "Epoch  18/60 Batch   60/77 - Loss:  0.182  - Validation loss:  0.200\n",
      "Epoch  19/60 Batch   20/77 - Loss:  0.137  - Validation loss:  0.188\n",
      "Epoch  19/60 Batch   40/77 - Loss:  0.172  - Validation loss:  0.185\n",
      "Epoch  19/60 Batch   60/77 - Loss:  0.164  - Validation loss:  0.179\n",
      "Epoch  20/60 Batch   20/77 - Loss:  0.123  - Validation loss:  0.169\n",
      "Epoch  20/60 Batch   40/77 - Loss:  0.155  - Validation loss:  0.167\n",
      "Epoch  20/60 Batch   60/77 - Loss:  0.148  - Validation loss:  0.162\n",
      "Epoch  21/60 Batch   20/77 - Loss:  0.110  - Validation loss:  0.153\n",
      "Epoch  21/60 Batch   40/77 - Loss:  0.140  - Validation loss:  0.151\n",
      "Epoch  21/60 Batch   60/77 - Loss:  0.134  - Validation loss:  0.147\n",
      "Epoch  22/60 Batch   20/77 - Loss:  0.099  - Validation loss:  0.138\n",
      "Epoch  22/60 Batch   40/77 - Loss:  0.127  - Validation loss:  0.138\n",
      "Epoch  22/60 Batch   60/77 - Loss:  0.121  - Validation loss:  0.133\n",
      "Epoch  23/60 Batch   20/77 - Loss:  0.089  - Validation loss:  0.126\n",
      "Epoch  23/60 Batch   40/77 - Loss:  0.115  - Validation loss:  0.126\n",
      "Epoch  23/60 Batch   60/77 - Loss:  0.109  - Validation loss:  0.122\n",
      "Epoch  24/60 Batch   20/77 - Loss:  0.080  - Validation loss:  0.114\n",
      "Epoch  24/60 Batch   40/77 - Loss:  0.104  - Validation loss:  0.116\n",
      "Epoch  24/60 Batch   60/77 - Loss:  0.099  - Validation loss:  0.112\n",
      "Epoch  25/60 Batch   20/77 - Loss:  0.072  - Validation loss:  0.105\n",
      "Epoch  25/60 Batch   40/77 - Loss:  0.095  - Validation loss:  0.107\n",
      "Epoch  25/60 Batch   60/77 - Loss:  0.089  - Validation loss:  0.103\n",
      "Epoch  26/60 Batch   20/77 - Loss:  0.065  - Validation loss:  0.097\n",
      "Epoch  26/60 Batch   40/77 - Loss:  0.087  - Validation loss:  0.099\n",
      "Epoch  26/60 Batch   60/77 - Loss:  0.081  - Validation loss:  0.095\n",
      "Epoch  27/60 Batch   20/77 - Loss:  0.059  - Validation loss:  0.089\n",
      "Epoch  27/60 Batch   40/77 - Loss:  0.079  - Validation loss:  0.092\n",
      "Epoch  27/60 Batch   60/77 - Loss:  0.074  - Validation loss:  0.088\n",
      "Epoch  28/60 Batch   20/77 - Loss:  0.053  - Validation loss:  0.083\n",
      "Epoch  28/60 Batch   40/77 - Loss:  0.072  - Validation loss:  0.086\n",
      "Epoch  28/60 Batch   60/77 - Loss:  0.068  - Validation loss:  0.082\n",
      "Epoch  29/60 Batch   20/77 - Loss:  0.049  - Validation loss:  0.077\n",
      "Epoch  29/60 Batch   40/77 - Loss:  0.066  - Validation loss:  0.080\n",
      "Epoch  29/60 Batch   60/77 - Loss:  0.062  - Validation loss:  0.076\n",
      "Epoch  30/60 Batch   20/77 - Loss:  0.044  - Validation loss:  0.072\n",
      "Epoch  30/60 Batch   40/77 - Loss:  0.061  - Validation loss:  0.075\n",
      "Epoch  30/60 Batch   60/77 - Loss:  0.057  - Validation loss:  0.071\n",
      "Epoch  31/60 Batch   20/77 - Loss:  0.040  - Validation loss:  0.068\n",
      "Epoch  31/60 Batch   40/77 - Loss:  0.056  - Validation loss:  0.070\n",
      "Epoch  31/60 Batch   60/77 - Loss:  0.053  - Validation loss:  0.066\n",
      "Epoch  32/60 Batch   20/77 - Loss:  0.037  - Validation loss:  0.063\n",
      "Epoch  32/60 Batch   40/77 - Loss:  0.051  - Validation loss:  0.066\n",
      "Epoch  32/60 Batch   60/77 - Loss:  0.049  - Validation loss:  0.062\n",
      "Epoch  33/60 Batch   20/77 - Loss:  0.034  - Validation loss:  0.059\n",
      "Epoch  33/60 Batch   40/77 - Loss:  0.047  - Validation loss:  0.062\n",
      "Epoch  33/60 Batch   60/77 - Loss:  0.045  - Validation loss:  0.058\n",
      "Epoch  34/60 Batch   20/77 - Loss:  0.031  - Validation loss:  0.056\n",
      "Epoch  34/60 Batch   40/77 - Loss:  0.043  - Validation loss:  0.058\n",
      "Epoch  34/60 Batch   60/77 - Loss:  0.042  - Validation loss:  0.055\n",
      "Epoch  35/60 Batch   20/77 - Loss:  0.029  - Validation loss:  0.052\n",
      "Epoch  35/60 Batch   40/77 - Loss:  0.040  - Validation loss:  0.054\n",
      "Epoch  35/60 Batch   60/77 - Loss:  0.039  - Validation loss:  0.051\n",
      "Epoch  36/60 Batch   20/77 - Loss:  0.027  - Validation loss:  0.049\n",
      "Epoch  36/60 Batch   40/77 - Loss:  0.037  - Validation loss:  0.051\n",
      "Epoch  36/60 Batch   60/77 - Loss:  0.036  - Validation loss:  0.048\n",
      "Epoch  37/60 Batch   20/77 - Loss:  0.025  - Validation loss:  0.046\n",
      "Epoch  37/60 Batch   40/77 - Loss:  0.034  - Validation loss:  0.048\n",
      "Epoch  37/60 Batch   60/77 - Loss:  0.033  - Validation loss:  0.045\n",
      "Epoch  38/60 Batch   20/77 - Loss:  0.023  - Validation loss:  0.043\n",
      "Epoch  38/60 Batch   40/77 - Loss:  0.032  - Validation loss:  0.045\n",
      "Epoch  38/60 Batch   60/77 - Loss:  0.031  - Validation loss:  0.042\n",
      "Epoch  39/60 Batch   20/77 - Loss:  0.022  - Validation loss:  0.040\n",
      "Epoch  39/60 Batch   40/77 - Loss:  0.030  - Validation loss:  0.042\n",
      "Epoch  39/60 Batch   60/77 - Loss:  0.029  - Validation loss:  0.039\n",
      "Epoch  40/60 Batch   20/77 - Loss:  0.020  - Validation loss:  0.038\n",
      "Epoch  40/60 Batch   40/77 - Loss:  0.028  - Validation loss:  0.039\n",
      "Epoch  40/60 Batch   60/77 - Loss:  0.027  - Validation loss:  0.037\n",
      "Epoch  41/60 Batch   20/77 - Loss:  0.019  - Validation loss:  0.036\n",
      "Epoch  41/60 Batch   40/77 - Loss:  0.026  - Validation loss:  0.037\n",
      "Epoch  41/60 Batch   60/77 - Loss:  0.025  - Validation loss:  0.035\n",
      "Epoch  42/60 Batch   20/77 - Loss:  0.017  - Validation loss:  0.034\n",
      "Epoch  42/60 Batch   40/77 - Loss:  0.024  - Validation loss:  0.034\n",
      "Epoch  42/60 Batch   60/77 - Loss:  0.023  - Validation loss:  0.033\n",
      "Epoch  43/60 Batch   20/77 - Loss:  0.016  - Validation loss:  0.032\n",
      "Epoch  43/60 Batch   40/77 - Loss:  0.023  - Validation loss:  0.032\n",
      "Epoch  43/60 Batch   60/77 - Loss:  0.022  - Validation loss:  0.031\n",
      "Epoch  44/60 Batch   20/77 - Loss:  0.015  - Validation loss:  0.030\n",
      "Epoch  44/60 Batch   40/77 - Loss:  0.021  - Validation loss:  0.030\n",
      "Epoch  44/60 Batch   60/77 - Loss:  0.021  - Validation loss:  0.029\n",
      "Epoch  45/60 Batch   20/77 - Loss:  0.014  - Validation loss:  0.028\n",
      "Epoch  45/60 Batch   40/77 - Loss:  0.019  - Validation loss:  0.028\n",
      "Epoch  45/60 Batch   60/77 - Loss:  0.020  - Validation loss:  0.028\n",
      "Epoch  46/60 Batch   20/77 - Loss:  0.013  - Validation loss:  0.027\n",
      "Epoch  46/60 Batch   40/77 - Loss:  0.018  - Validation loss:  0.026\n",
      "Epoch  46/60 Batch   60/77 - Loss:  0.019  - Validation loss:  0.028\n",
      "Epoch  47/60 Batch   20/77 - Loss:  0.012  - Validation loss:  0.025\n",
      "Epoch  47/60 Batch   40/77 - Loss:  0.017  - Validation loss:  0.025\n",
      "Epoch  47/60 Batch   60/77 - Loss:  0.017  - Validation loss:  0.027\n",
      "Epoch  48/60 Batch   20/77 - Loss:  0.011  - Validation loss:  0.023\n",
      "Epoch  48/60 Batch   40/77 - Loss:  0.015  - Validation loss:  0.024\n",
      "Epoch  48/60 Batch   60/77 - Loss:  0.015  - Validation loss:  0.025\n",
      "Epoch  49/60 Batch   20/77 - Loss:  0.011  - Validation loss:  0.023\n",
      "Epoch  49/60 Batch   40/77 - Loss:  0.015  - Validation loss:  0.023\n",
      "Epoch  49/60 Batch   60/77 - Loss:  0.014  - Validation loss:  0.022\n",
      "Epoch  50/60 Batch   20/77 - Loss:  0.010  - Validation loss:  0.021\n",
      "Epoch  50/60 Batch   40/77 - Loss:  0.014  - Validation loss:  0.023\n",
      "Epoch  50/60 Batch   60/77 - Loss:  0.014  - Validation loss:  0.021\n",
      "Epoch  51/60 Batch   20/77 - Loss:  0.010  - Validation loss:  0.021\n",
      "Epoch  51/60 Batch   40/77 - Loss:  0.014  - Validation loss:  0.040\n",
      "Epoch  51/60 Batch   60/77 - Loss:  0.017  - Validation loss:  0.032\n",
      "Epoch  52/60 Batch   20/77 - Loss:  0.010  - Validation loss:  0.024\n",
      "Epoch  52/60 Batch   40/77 - Loss:  0.014  - Validation loss:  0.022\n",
      "Epoch  52/60 Batch   60/77 - Loss:  0.034  - Validation loss:  0.039\n",
      "Epoch  53/60 Batch   20/77 - Loss:  0.011  - Validation loss:  0.022\n",
      "Epoch  53/60 Batch   40/77 - Loss:  0.013  - Validation loss:  0.020\n",
      "Epoch  53/60 Batch   60/77 - Loss:  0.013  - Validation loss:  0.020\n",
      "Epoch  54/60 Batch   20/77 - Loss:  0.009  - Validation loss:  0.017\n",
      "Epoch  54/60 Batch   40/77 - Loss:  0.011  - Validation loss:  0.019\n",
      "Epoch  54/60 Batch   60/77 - Loss:  0.011  - Validation loss:  0.017\n",
      "Epoch  55/60 Batch   20/77 - Loss:  0.008  - Validation loss:  0.018\n",
      "Epoch  55/60 Batch   40/77 - Loss:  0.010  - Validation loss:  0.018\n",
      "Epoch  55/60 Batch   60/77 - Loss:  0.010  - Validation loss:  0.017\n",
      "Epoch  56/60 Batch   20/77 - Loss:  0.007  - Validation loss:  0.017\n",
      "Epoch  56/60 Batch   40/77 - Loss:  0.009  - Validation loss:  0.016\n",
      "Epoch  56/60 Batch   60/77 - Loss:  0.009  - Validation loss:  0.016\n",
      "Epoch  57/60 Batch   20/77 - Loss:  0.006  - Validation loss:  0.015\n",
      "Epoch  57/60 Batch   40/77 - Loss:  0.008  - Validation loss:  0.015\n",
      "Epoch  57/60 Batch   60/77 - Loss:  0.008  - Validation loss:  0.015\n",
      "Epoch  58/60 Batch   20/77 - Loss:  0.006  - Validation loss:  0.014\n",
      "Epoch  58/60 Batch   40/77 - Loss:  0.008  - Validation loss:  0.014\n",
      "Epoch  58/60 Batch   60/77 - Loss:  0.008  - Validation loss:  0.014\n",
      "Epoch  59/60 Batch   20/77 - Loss:  0.005  - Validation loss:  0.013\n",
      "Epoch  59/60 Batch   40/77 - Loss:  0.007  - Validation loss:  0.013\n",
      "Epoch  59/60 Batch   60/77 - Loss:  0.007  - Validation loss:  0.014\n",
      "Epoch  60/60 Batch   20/77 - Loss:  0.005  - Validation loss:  0.013\n",
      "Epoch  60/60 Batch   40/77 - Loss:  0.006  - Validation loss:  0.012\n",
      "Epoch  60/60 Batch   60/77 - Loss:  0.007  - Validation loss:  0.013\n",
      "Model Trained and Saved\n"
     ]
    }
   ],
   "source": [
    "train_source = source_letter_ids[batch_size:]\n",
    "train_target = target_letter_ids[batch_size:]\n",
    "valid_source = source_letter_ids[:batch_size]\n",
    "valid_target = target_letter_ids[:batch_size]\n",
    "(valid_targets_batch, valid_sources_batch, valid_targets_lengths, valid_sources_lengths) = next(get_batches(valid_target, valid_source, batch_size,\n",
    "                           source_letter_to_int['<PAD>'],\n",
    "                           target_letter_to_int['<PAD>']))\n",
    "\n",
    "display_step = 20 # Check training loss after every 20 batches\n",
    "\n",
    "checkpoint = \"../data/letter_checkpoints/best_model.ckpt\" \n",
    "loss_track=[]\n",
    "with tf.Session() as sess:\n",
    "    sess.run(tf.global_variables_initializer())\n",
    "    for epoch_i in range(1,epochs+1):\n",
    "        for batch_i, (targets_batch, sources_batch, targets_lengths, sources_lengths) in enumerate(\n",
    "                get_batches(train_target, train_source, batch_size,\n",
    "                           source_letter_to_int['<PAD>'],\n",
    "                           target_letter_to_int['<PAD>'])):\n",
    "            _, loss = sess.run([train_op,cost],feed_dict={\n",
    "                    inputs_:sources_batch,\n",
    "                    targets_:targets_batch,\n",
    "                    lr:learning_rate,\n",
    "                    target_sequence_lengths:targets_lengths,\n",
    "                    source_sequence_lengths:sources_lengths\n",
    "                })\n",
    "            loss_track.append(loss)\n",
    "            if batch_i % display_step == 0 and batch_i > 0:\n",
    "                val_loss = sess.run([cost], feed_dict={\n",
    "                        inputs_:valid_sources_batch,\n",
    "                        targets_:valid_targets_batch,\n",
    "                        source_sequence_lengths:valid_sources_lengths,\n",
    "                        target_sequence_lengths:valid_targets_lengths\n",
    "                    })\n",
    "                print('Epoch {:>3}/{} Batch {:>4}/{} - Loss: {:>6.3f}  - Validation loss: {:>6.3f}'\n",
    "                      .format(epoch_i,\n",
    "                              epochs, \n",
    "                              batch_i, \n",
    "                              len(train_source) // batch_size, \n",
    "                              loss, \n",
    "                              val_loss[0]))\n",
    "    \n",
    "    saver = tf.train.Saver()\n",
    "    saver.save(sess, checkpoint)\n",
    "    print('Model Trained and Saved')          "
   ]
  },
  {
   "cell_type": "code",
   "execution_count": 17,
   "metadata": {
    "collapsed": false
   },
   "outputs": [
    {
     "data": {
      "text/plain": [
       "[<matplotlib.lines.Line2D at 0x146af422f98>]"
      ]
     },
     "execution_count": 17,
     "metadata": {},
     "output_type": "execute_result"
    },
    {
     "data": {
      "image/png": "[encoded data removed]",
      "text/plain": [
       "<matplotlib.figure.Figure at 0x146aac81da0>"
      ]
     },
     "metadata": {},
     "output_type": "display_data"
    }
   ],
   "source": [
    "plt.plot(loss_track)"
   ]
  },
  {
   "cell_type": "code",
   "execution_count": 1,
   "metadata": {
    "collapsed": false
   },
   "outputs": [],
   "source": [
    "import tensorflow as tf\n",
    "import numpy as np\n",
    "import pickle\n",
    "with open(\"letter_dicts.pkl\",'rb') as f:\n",
    "    source_int_to_letter, source_letter_to_int,target_int_to_letter, target_letter_to_int =pickle.load(f)"
   ]
  },
  {
   "cell_type": "code",
   "execution_count": 2,
   "metadata": {
    "collapsed": true
   },
   "outputs": [],
   "source": [
    "def source_to_seq(text,sequence_length = 7):\n",
    "    return [source_letter_to_int.get(word, source_letter_to_int['<UNK>']) for word in text]+ [source_letter_to_int['<PAD>']]*(sequence_length-len(text))"
   ]
  },
  {
   "cell_type": "code",
   "execution_count": 3,
   "metadata": {
    "collapsed": false
   },
   "outputs": [
    {
     "name": "stdout",
     "output_type": "stream",
     "text": [
      "INFO:tensorflow:Restoring parameters from ../data/letter_checkpoints/best_model.ckpt\n"
     ]
    }
   ],
   "source": [
    "input_sentence = 'hello'\n",
    "text = source_to_seq(input_sentence)\n",
    "batch_size=128\n",
    "checkpoint = \"../data/letter_checkpoints/best_model.ckpt\" \n",
    "loaded_graph = tf.Graph()\n",
    "with tf.Session(graph=loaded_graph) as sess:\n",
    "    loader = tf.train.import_meta_graph(checkpoint+'.meta')\n",
    "    loader.restore(sess, checkpoint)\n",
    "    inputs = loaded_graph.get_tensor_by_name('inputs:0')\n",
    "    preds = loaded_graph.get_tensor_by_name(\"predictions:0\")\n",
    "    source_sequence_lengths = loaded_graph.get_tensor_by_name('source_sequence_lengths:0')\n",
    "    target_sequence_lengths = loaded_graph.get_tensor_by_name('target_sequence_lengths:0')\n",
    "    \n",
    "    #Multiply by batch_size to match the model's input parameters\n",
    "    answers = sess.run(preds, feed_dict={\n",
    "            inputs: [text]*batch_size,\n",
    "            source_sequence_lengths: [len(text)]*batch_size,\n",
    "            target_sequence_lengths: [len(text)]*batch_size\n",
    "        })"
   ]
  },
  {
   "cell_type": "code",
   "execution_count": 4,
   "metadata": {
    "collapsed": false
   },
   "outputs": [
    {
     "name": "stdout",
     "output_type": "stream",
     "text": [
      "(128, 6)\n",
      "7\n"
     ]
    }
   ],
   "source": [
    "print(answers.shape)\n",
    "print(len(text))"
   ]
  },
  {
   "cell_type": "code",
   "execution_count": 5,
   "metadata": {
    "collapsed": false
   },
   "outputs": [
    {
     "name": "stdout",
     "output_type": "stream",
     "text": [
      "Original Text: hello\n",
      "\n",
      "Source\n",
      "  Word Ids:    [18, 4, 19, 19, 24, 0, 0]\n",
      "  Input Words: h e l l o <PAD> <PAD>\n",
      "\n",
      "Target\n",
      "  Word Ids:       [ 4 18 19 19 24  3]\n",
      "  Response Words: e h l l o <EOS>\n"
     ]
    }
   ],
   "source": [
    "pad = source_letter_to_int[\"<PAD>\"] \n",
    "print('Original Text:', input_sentence)\n",
    "\n",
    "print('\\nSource')\n",
    "print('  Word Ids:    {}'.format(text))\n",
    "print('  Input Words: {}'.format(\" \".join([source_int_to_letter[i] for i in text])))\n",
    "\n",
    "print('\\nTarget')\n",
    "print('  Word Ids:       {}'.format(answers[0]))\n",
    "print('  Response Words: {}'.format(\" \".join([target_int_to_letter[i] for i in answers[0] if i != pad])))"
   ]
  },
  {
   "cell_type": "code",
   "execution_count": null,
   "metadata": {
    "collapsed": true
   },
   "outputs": [],
   "source": []
  }
 ],
 "metadata": {
  "anaconda-cloud": {},
  "kernelspec": {
   "display_name": "Python [conda root]",
   "language": "python",
   "name": "conda-root-py"
  },
  "language_info": {
   "codemirror_mode": {
    "name": "ipython",
    "version": 3
   },
   "file_extension": ".py",
   "mimetype": "text/x-python",
   "name": "python",
   "nbconvert_exporter": "python",
   "pygments_lexer": "ipython3",
   "version": "3.5.2"
  }
 },
 "nbformat": 4,
 "nbformat_minor": 1
}
