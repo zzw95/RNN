{
 "cells": [
  {
   "cell_type": "code",
   "execution_count": 1,
   "metadata": {
    "collapsed": false
   },
   "outputs": [],
   "source": [
    "import tensorflow as tf\n",
    "import numpy as np\n",
    "import utils "
   ]
  },
  {
   "cell_type": "code",
   "execution_count": 2,
   "metadata": {
    "collapsed": true
   },
   "outputs": [],
   "source": [
    "reviews, labels = utils.load_text()"
   ]
  },
  {
   "cell_type": "code",
   "execution_count": 3,
   "metadata": {
    "collapsed": false
   },
   "outputs": [
    {
     "name": "stdout",
     "output_type": "stream",
     "text": [
      "Remove punctuation......\n",
      "bromwell high is a cartoon comedy  it ran at the same time as some other programs about school life  such as  teachers   my   years in the teaching profession lead me to believe that bromwell high  s satire is much closer to reality than is  teachers   the scramble to survive financially  the insightful students who can see right through their pathetic teachers  pomp  the pettiness of the whole situation  all remind me of the schools i knew and their students  when i saw the episode in which a student repeatedly tried to burn down the school  i immediately recalled          at           high  a classic line inspector i  m here to sack one of your teachers  student welcome to bromwell high  i expect that many adults of my age think that bromwell high is far fetched  what a pity that it isn  t   \n"
     ]
    }
   ],
   "source": [
    "reviews, words = utils.preprocess(reviews)\n",
    "print(reviews[0])"
   ]
  },
  {
   "cell_type": "code",
   "execution_count": 4,
   "metadata": {
    "collapsed": false
   },
   "outputs": [
    {
     "name": "stdout",
     "output_type": "stream",
     "text": [
      "['the', 'and', 'a', 'of', 'to']\n"
     ]
    }
   ],
   "source": [
    "vocab_to_int, int_to_vocab = utils.create_lookup_tabels(words)    #index starts 1 not 0\n",
    "print([int_to_vocab[i] for i in range(1,6)])"
   ]
  },
  {
   "cell_type": "code",
   "execution_count": 5,
   "metadata": {
    "collapsed": false
   },
   "outputs": [
    {
     "name": "stdout",
     "output_type": "stream",
     "text": [
      "[1 0 1 0 1]\n",
      "(25001,)\n"
     ]
    }
   ],
   "source": [
    "labels = np.array([label=='positive' for label in labels.split('\\n')])*1\n",
    "print(labels[:5])\n",
    "print(labels.shape)"
   ]
  },
  {
   "cell_type": "code",
   "execution_count": 6,
   "metadata": {
    "collapsed": false
   },
   "outputs": [],
   "source": [
    "reviews_ints=[]\n",
    "for review in reviews:\n",
    "    reviews_ints.append([vocab_to_int[word] for word in review.split()])"
   ]
  },
  {
   "cell_type": "code",
   "execution_count": 7,
   "metadata": {
    "collapsed": false
   },
   "outputs": [
    {
     "name": "stdout",
     "output_type": "stream",
     "text": [
      "25001\n",
      "25000\n",
      "25000\n"
     ]
    }
   ],
   "source": [
    "reviews_ints_ = reviews_ints[:]\n",
    "print(len(reviews_ints_))\n",
    "reviews_ints=[x for x in reviews_ints_ if len(x)>0]\n",
    "labels=[labels[i] for i,x in enumerate(reviews_ints_) if len(x)>0]\n",
    "labels=np.array(labels)\n",
    "print(len(reviews_ints))\n",
    "print(len(labels))"
   ]
  },
  {
   "cell_type": "code",
   "execution_count": 8,
   "metadata": {
    "collapsed": false
   },
   "outputs": [
    {
     "name": "stdout",
     "output_type": "stream",
     "text": [
      "[    0     0     0     0     0     0     0     0     0     0     0     0\n",
      "     0     0     0     0     0     0     0     0     0     0     0     0\n",
      "     0     0     0     0     0     0     0     0     0     0     0     0\n",
      "     0     0     0     0     0     0     0     0     0     0     0     0\n",
      "     0     0     0     0     0     0     0     0     0     0     0     0\n",
      " 21909   308     6     3  1051   207     8  2143    32     1   171    57\n",
      "    15    49    81  5793    44   382   110   140    15  5224    60   154\n",
      "     9     1  4985  5902   475    71     5   260    12 21909   308    13\n",
      "  1980     6    74  2406]\n"
     ]
    }
   ],
   "source": [
    "seq_len = 200\n",
    "features = np.zeros([len(reviews_ints), seq_len], dtype=np.int32)\n",
    "for i,x in enumerate(reviews_ints):\n",
    "    l = seq_len if seq_len<len(x) else len(x)\n",
    "    features[i][-l:]=x[:l]\n",
    "print(features[0,:100])"
   ]
  },
  {
   "cell_type": "code",
   "execution_count": 9,
   "metadata": {
    "collapsed": false
   },
   "outputs": [
    {
     "name": "stdout",
     "output_type": "stream",
     "text": [
      "Train set: \t\t(20000, 200) \n",
      "Validation set: \t(2500, 200) \n",
      "Test set: \t\t(2500, 200) \n",
      "All set: \t\t(25000, 200)\n"
     ]
    }
   ],
   "source": [
    "train_x, train_y, valid_x, valid_y, test_x, test_y = utils.split_data(features, labels, 0.8, 0.1, 0.1)"
   ]
  },
  {
   "cell_type": "code",
   "execution_count": 10,
   "metadata": {
    "collapsed": true
   },
   "outputs": [],
   "source": [
    "lstm_size = 256\n",
    "lstm_layers = 1\n",
    "batch_size = 500\n",
    "learning_rate = 0.001\n",
    "embed_size = 300"
   ]
  },
  {
   "cell_type": "code",
   "execution_count": 11,
   "metadata": {
    "collapsed": true
   },
   "outputs": [],
   "source": [
    "n_words = len(vocab_to_int)+1 #Adding 1 because we use 0's for padding, dictionary started at 1\n",
    "inputs_ = tf.placeholder(shape=[batch_size,seq_len], dtype=tf.int32, name=\"inputs\")\n",
    "labels_ = tf.placeholder(shape=[batch_size,1], dtype=tf.float32, name=\"labels\")\n",
    "keep_prob = tf.placeholder(dtype=tf.float32, name=\"keep_prob\")\n",
    "step = tf.Variable(0,dtype=tf.int32,name=\"global_step\")"
   ]
  },
  {
   "cell_type": "code",
   "execution_count": 12,
   "metadata": {
    "collapsed": true
   },
   "outputs": [],
   "source": [
    "embedding = tf.Variable(tf.random_uniform([n_words, embed_size],-1,1), name=\"embedding\")\n",
    "embed = tf.nn.embedding_lookup(embedding, inputs_)"
   ]
  },
  {
   "cell_type": "code",
   "execution_count": 13,
   "metadata": {
    "collapsed": true
   },
   "outputs": [],
   "source": [
    "def build_cell(lstm_size,keep_prob):\n",
    "    lstm = tf.contrib.rnn.BasicLSTMCell(lstm_size)\n",
    "    drop= tf.contrib.rnn.DropoutWrapper(lstm, output_keep_prob=keep_prob)\n",
    "    return drop\n",
    "cell = tf.contrib.rnn.MultiRNNCell([build_cell(lstm_size,keep_prob) for _ in range(lstm_layers)])\n",
    "initial_state=cell.zero_state(batch_size, tf.float32)\n",
    "\n",
    "outputs, final_state = tf.nn.dynamic_rnn(cell, embed, initial_state=initial_state)"
   ]
  },
  {
   "cell_type": "code",
   "execution_count": 14,
   "metadata": {
    "collapsed": false
   },
   "outputs": [
    {
     "name": "stdout",
     "output_type": "stream",
     "text": [
      "[500, 200, 256]\n",
      "[500, 1]\n"
     ]
    }
   ],
   "source": [
    "print(outputs.get_shape().as_list())\n",
    "logits = tf.contrib.layers.fully_connected(outputs[:,-1], 1, activation_fn=None)\n",
    "print(logits.get_shape().as_list())\n",
    "predictions = tf.nn.sigmoid(logits,name=\"predictions\")\n",
    "\n",
    "cost = tf.reduce_mean(tf.nn.sigmoid_cross_entropy_with_logits(labels=labels_, logits=logits), name=\"cost\")\n",
    "tf.summary.scalar('cost',cost)\n",
    "\n",
    "optimizer = tf.train.AdamOptimizer(learning_rate).minimize(cost,global_step=step, name=\"opt\")\n",
    "\n",
    "correct_pred = tf.equal(tf.round(predictions), labels_)\n",
    "accuracy = tf.reduce_mean(tf.cast(correct_pred, tf.float32), name=\"accuracy\")\n",
    "\n",
    "summary=tf.summary.merge_all()"
   ]
  },
  {
   "cell_type": "code",
   "execution_count": 15,
   "metadata": {
    "collapsed": false
   },
   "outputs": [
    {
     "name": "stdout",
     "output_type": "stream",
     "text": [
      "Epoch: 1/10 Iteration: 5 Train loss: 0.672\n",
      "Epoch: 1/10 Iteration: 10 Train loss: 0.683\n",
      "Epoch: 1/10 Iteration: 15 Train loss: 0.615\n",
      "Epoch: 1/10 Iteration: 20 Train loss: 0.627\n",
      "Epoch: 1/10 Iteration: 25 Train loss: 0.653\n",
      "Val acc: 0.610\n",
      "Epoch: 1/10 Iteration: 30 Train loss: 0.651\n",
      "Epoch: 1/10 Iteration: 35 Train loss: 0.639\n",
      "Epoch: 1/10 Iteration: 40 Train loss: 0.597\n",
      "Epoch: 2/10 Iteration: 45 Train loss: 0.641\n",
      "Epoch: 2/10 Iteration: 50 Train loss: 0.600\n",
      "Val acc: 0.655\n",
      "Epoch: 2/10 Iteration: 55 Train loss: 0.580\n",
      "Epoch: 2/10 Iteration: 60 Train loss: 0.578\n",
      "Epoch: 2/10 Iteration: 65 Train loss: 0.553\n",
      "Epoch: 2/10 Iteration: 70 Train loss: 0.573\n",
      "Epoch: 2/10 Iteration: 75 Train loss: 0.539\n",
      "Val acc: 0.743\n",
      "Epoch: 2/10 Iteration: 80 Train loss: 0.529\n",
      "Epoch: 3/10 Iteration: 85 Train loss: 0.344\n",
      "Epoch: 3/10 Iteration: 90 Train loss: 0.462\n",
      "Epoch: 3/10 Iteration: 95 Train loss: 0.380\n",
      "Epoch: 3/10 Iteration: 100 Train loss: 0.452\n",
      "Val acc: 0.736\n",
      "Epoch: 3/10 Iteration: 105 Train loss: 0.439\n",
      "Epoch: 3/10 Iteration: 110 Train loss: 0.407\n",
      "Epoch: 3/10 Iteration: 115 Train loss: 0.373\n",
      "Epoch: 3/10 Iteration: 120 Train loss: 0.389\n",
      "Epoch: 4/10 Iteration: 125 Train loss: 0.247\n",
      "Val acc: 0.817\n",
      "Epoch: 4/10 Iteration: 130 Train loss: 0.316\n",
      "Epoch: 4/10 Iteration: 135 Train loss: 0.320\n",
      "Epoch: 4/10 Iteration: 140 Train loss: 0.301\n",
      "Epoch: 4/10 Iteration: 145 Train loss: 0.287\n",
      "Epoch: 4/10 Iteration: 150 Train loss: 0.286\n",
      "Val acc: 0.815\n",
      "Epoch: 4/10 Iteration: 155 Train loss: 0.241\n",
      "Epoch: 4/10 Iteration: 160 Train loss: 0.309\n",
      "Epoch: 5/10 Iteration: 165 Train loss: 0.214\n",
      "Epoch: 5/10 Iteration: 170 Train loss: 0.306\n",
      "Epoch: 5/10 Iteration: 175 Train loss: 0.316\n",
      "Val acc: 0.798\n",
      "Epoch: 5/10 Iteration: 180 Train loss: 0.261\n",
      "Epoch: 5/10 Iteration: 185 Train loss: 0.407\n",
      "Epoch: 5/10 Iteration: 190 Train loss: 0.300\n",
      "Epoch: 5/10 Iteration: 195 Train loss: 0.306\n",
      "Epoch: 5/10 Iteration: 200 Train loss: 0.263\n",
      "Val acc: 0.790\n",
      "Epoch: 6/10 Iteration: 205 Train loss: 0.190\n",
      "Epoch: 6/10 Iteration: 210 Train loss: 0.249\n",
      "Epoch: 6/10 Iteration: 215 Train loss: 0.210\n",
      "Epoch: 6/10 Iteration: 220 Train loss: 0.298\n",
      "Epoch: 6/10 Iteration: 225 Train loss: 0.224\n",
      "Val acc: 0.809\n",
      "Epoch: 6/10 Iteration: 230 Train loss: 0.207\n",
      "Epoch: 6/10 Iteration: 235 Train loss: 0.175\n",
      "Epoch: 6/10 Iteration: 240 Train loss: 0.293\n",
      "Epoch: 7/10 Iteration: 245 Train loss: 0.172\n",
      "Epoch: 7/10 Iteration: 250 Train loss: 0.156\n",
      "Val acc: 0.819\n",
      "Epoch: 7/10 Iteration: 255 Train loss: 0.173\n",
      "Epoch: 7/10 Iteration: 260 Train loss: 0.191\n",
      "Epoch: 7/10 Iteration: 265 Train loss: 0.142\n",
      "Epoch: 7/10 Iteration: 270 Train loss: 0.124\n",
      "Epoch: 7/10 Iteration: 275 Train loss: 0.132\n",
      "Val acc: 0.803\n",
      "Epoch: 7/10 Iteration: 280 Train loss: 0.152\n",
      "Epoch: 8/10 Iteration: 285 Train loss: 0.221\n",
      "Epoch: 8/10 Iteration: 290 Train loss: 0.130\n",
      "Epoch: 8/10 Iteration: 295 Train loss: 0.244\n",
      "Epoch: 8/10 Iteration: 300 Train loss: 0.328\n",
      "Val acc: 0.835\n",
      "Epoch: 8/10 Iteration: 305 Train loss: 0.204\n",
      "Epoch: 8/10 Iteration: 310 Train loss: 0.341\n",
      "Epoch: 8/10 Iteration: 315 Train loss: 0.366\n",
      "Epoch: 8/10 Iteration: 320 Train loss: 0.311\n",
      "Epoch: 9/10 Iteration: 325 Train loss: 0.134\n",
      "Val acc: 0.822\n",
      "Epoch: 9/10 Iteration: 330 Train loss: 0.188\n",
      "Epoch: 9/10 Iteration: 335 Train loss: 0.143\n",
      "Epoch: 9/10 Iteration: 340 Train loss: 0.159\n",
      "Epoch: 9/10 Iteration: 345 Train loss: 0.176\n",
      "Epoch: 9/10 Iteration: 350 Train loss: 0.150\n",
      "Val acc: 0.795\n",
      "Epoch: 9/10 Iteration: 355 Train loss: 0.695\n",
      "Epoch: 9/10 Iteration: 360 Train loss: 0.257\n",
      "Epoch: 10/10 Iteration: 365 Train loss: 0.452\n",
      "Epoch: 10/10 Iteration: 370 Train loss: 0.339\n",
      "Epoch: 10/10 Iteration: 375 Train loss: 0.197\n",
      "Val acc: 0.817\n",
      "Epoch: 10/10 Iteration: 380 Train loss: 0.304\n",
      "Epoch: 10/10 Iteration: 385 Train loss: 0.278\n",
      "Epoch: 10/10 Iteration: 390 Train loss: 0.174\n",
      "Epoch: 10/10 Iteration: 395 Train loss: 0.187\n",
      "Epoch: 10/10 Iteration: 400 Train loss: 0.211\n",
      "Val acc: 0.700\n"
     ]
    }
   ],
   "source": [
    "epochs = 10\n",
    "\n",
    "with tf.Session() as sess:\n",
    "    saver=tf.train.Saver()\n",
    "    writer=tf.summary.FileWriter('data/sentiment_graph',sess.graph)\n",
    "    sess.run(tf.global_variables_initializer())\n",
    "    for e in range(epochs):\n",
    "        state = sess.run(initial_state)       \n",
    "        for ii, (x, y) in enumerate(utils.get_batches(train_x, train_y, batch_size), 1):    # index starts from 1\n",
    "            feed = {inputs_: x,\n",
    "                    labels_: y[:, None],\n",
    "                    keep_prob: 0.5,\n",
    "                    initial_state: state}\n",
    "            loss, state,summaries, global_step, _ = sess.run([cost, final_state,summary,step,optimizer], feed_dict=feed)\n",
    "            writer.add_summary(summaries, global_step=global_step)\n",
    "            if global_step%5==0:            \n",
    "                print(\"Epoch: {}/{}\".format(e+1, epochs),\n",
    "                      \"Iteration: {}\".format(global_step),\n",
    "                      \"Train loss: {:.3f}\".format(loss))\n",
    "\n",
    "            if global_step%25==0:\n",
    "                saver.save(sess, \"data/sentiment_checkpoints/sentiment.ckpt\", global_step=step)\n",
    "                val_acc = []\n",
    "                val_state = sess.run(cell.zero_state(batch_size, tf.float32))\n",
    "                for x, y in utils.get_batches(valid_x, valid_y, batch_size):\n",
    "                    feed = {inputs_: x,\n",
    "                            labels_: y[:, None],\n",
    "                            keep_prob: 1,\n",
    "                            initial_state: val_state}\n",
    "                    batch_acc, val_state = sess.run([accuracy, final_state], feed_dict=feed)\n",
    "                    val_acc.append(batch_acc)\n",
    "                print(\"Val acc: {:.3f}\".format(np.mean(val_acc)))\n",
    "    writer.flush()\n",
    "    writer.close()  "
   ]
  },
  {
   "cell_type": "code",
   "execution_count": 18,
   "metadata": {
    "collapsed": false
   },
   "outputs": [
    {
     "name": "stdout",
     "output_type": "stream",
     "text": [
      "INFO:tensorflow:Restoring parameters from data/sentiment_checkpoints/sentiment.ckpt-300\n",
      "Test accuracy: 0.822\n"
     ]
    }
   ],
   "source": [
    "test_acc = []\n",
    "with tf.Session() as sess:\n",
    "    saver.restore(sess, 'data/sentiment_checkpoints/sentiment.ckpt-300')\n",
    "    test_state = sess.run(cell.zero_state(batch_size, tf.float32))\n",
    "    for ii, (x, y) in enumerate(utils.get_batches(test_x, test_y, batch_size), 1):\n",
    "        feed = {inputs_: x,\n",
    "                labels_: y[:, None],\n",
    "                keep_prob: 1,\n",
    "                initial_state: test_state}\n",
    "        batch_acc, test_state = sess.run([accuracy, final_state], feed_dict=feed)\n",
    "        test_acc.append(batch_acc)\n",
    "    print(\"Test accuracy: {:.3f}\".format(np.mean(test_acc)))"
   ]
  },
  {
   "cell_type": "code",
   "execution_count": null,
   "metadata": {
    "collapsed": true
   },
   "outputs": [],
   "source": []
  }
 ],
 "metadata": {
  "anaconda-cloud": {},
  "kernelspec": {
   "display_name": "Python [conda root]",
   "language": "python",
   "name": "conda-root-py"
  },
  "language_info": {
   "codemirror_mode": {
    "name": "ipython",
    "version": 3
   },
   "file_extension": ".py",
   "mimetype": "text/x-python",
   "name": "python",
   "nbconvert_exporter": "python",
   "pygments_lexer": "ipython3",
   "version": "3.5.2"
  }
 },
 "nbformat": 4,
 "nbformat_minor": 1
}
